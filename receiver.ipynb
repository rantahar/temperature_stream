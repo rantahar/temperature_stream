{
 "cells": [
  {
   "cell_type": "code",
   "execution_count": 15,
   "metadata": {},
   "outputs": [
    {
     "ename": "OSError",
     "evalue": "[Errno 107] Transport endpoint is not connected",
     "output_type": "error",
     "traceback": [
      "\u001b[0;31m---------------------------------------------------------------------------\u001b[0m",
      "\u001b[0;31mOSError\u001b[0m                                   Traceback (most recent call last)",
      "Cell \u001b[0;32mIn[15], line 20\u001b[0m\n\u001b[1;32m     17\u001b[0m     bytestring \u001b[38;5;241m=\u001b[39m \u001b[38;5;124mb\u001b[39m\u001b[38;5;124m'\u001b[39m\u001b[38;5;124m'\u001b[39m\u001b[38;5;241m.\u001b[39mjoin(chunk)[:\u001b[38;5;28mlen\u001b[39m(message_end_token)]\n\u001b[1;32m     18\u001b[0m     \u001b[38;5;28;01mreturn\u001b[39;00m \u001b[38;5;28mfloat\u001b[39m(bytestring)\n\u001b[0;32m---> 20\u001b[0m \u001b[38;5;28mprint\u001b[39m(\u001b[43mreceive_data\u001b[49m\u001b[43m(\u001b[49m\u001b[43m)\u001b[49m)\n",
      "Cell \u001b[0;32mIn[15], line 11\u001b[0m, in \u001b[0;36mreceive_data\u001b[0;34m(address)\u001b[0m\n\u001b[1;32m      9\u001b[0m chunks \u001b[38;5;241m=\u001b[39m []\n\u001b[1;32m     10\u001b[0m \u001b[38;5;28;01mwhile\u001b[39;00m \u001b[38;5;28;01mTrue\u001b[39;00m:\n\u001b[0;32m---> 11\u001b[0m     chunk \u001b[38;5;241m=\u001b[39m \u001b[43msock\u001b[49m\u001b[38;5;241;43m.\u001b[39;49m\u001b[43mrecv\u001b[49m\u001b[43m(\u001b[49m\u001b[38;5;241;43m4096\u001b[39;49m\u001b[43m)\u001b[49m\n\u001b[1;32m     12\u001b[0m     \u001b[38;5;28;01mif\u001b[39;00m chunk\u001b[38;5;241m.\u001b[39mendswith(message_end_token):\n\u001b[1;32m     13\u001b[0m         \u001b[38;5;28;01mbreak\u001b[39;00m\n",
      "\u001b[0;31mOSError\u001b[0m: [Errno 107] Transport endpoint is not connected"
     ]
    }
   ],
   "source": [
    "import socket\n",
    "\n",
    "message_end_token = b\"000000\"\n",
    "\n",
    "def receive_data(address=\"\"):\n",
    "    sock = socket.socket()\n",
    "    sock.bind((address, 5007))\n",
    "    \n",
    "    chunks = []\n",
    "    while True:\n",
    "        chunk = sock.recv(4096)\n",
    "        if chunk.endswith(message_end_token):\n",
    "            break\n",
    "        if chunk == b'':\n",
    "            raise \"socket connection broken\"\n",
    "    \n",
    "    bytestring = b''.join(chunk)[:len(message_end_token)]\n",
    "    return float(bytestring)\n",
    "\n",
    "print(receive_data())\n"
   ]
  },
  {
   "cell_type": "code",
   "execution_count": null,
   "metadata": {},
   "outputs": [
    {
     "name": "stdout",
     "output_type": "stream",
     "text": [
      "[Errno 98] Address already in use\n",
      "None\n"
     ]
    }
   ],
   "source": [
    "import socket\n",
    "import struct\n",
    "\n",
    "message_end_token = b\"000000\"\n",
    "\n",
    "def receive_temperature_data(address=\"\", port = 5015, timeout = 15*60):\n",
    "    sock = socket.socket()\n",
    "    sock.setsockopt(socket.SOL_SOCKET, socket.SO_REUSEADDR, 1)\n",
    "    sock.settimeout(timeout)\n",
    "    sock.bind((address, port))\n",
    "    \n",
    "    sock.listen(2)\n",
    "    conn, addr = sock.accept()\n",
    "    \n",
    "    try: \n",
    "        data = conn.recv(64)\n",
    "    except Exception as e:\n",
    "        sock.close()\n",
    "        raise e\n",
    "        \n",
    "    sock.close()\n",
    "    \n",
    "    temp, = struct.unpack(\"<f\", data) # convert the bytes into a float (little endian)\n",
    "    \n",
    "    assert temp > 0.0\n",
    "    assert temp < 300.0\n",
    "    return temp\n",
    "\n",
    "\n",
    "def stream_temperature_from(address, port = 5015, interval = 15*60):\n",
    "    temperature = None\n",
    "    while True:\n",
    "        try:\n",
    "            temperature = receive_temperature_data(address, port, interval)\n",
    "        except socket.error as e:\n",
    "            # Presuming this is timeout\n",
    "            # Write the data somewhere\n",
    "            print(e)\n",
    "            print(temperature)\n",
    "\n",
    "\n",
    "stream_temperature_from(\"\", interval = 1)"
   ]
  },
  {
   "cell_type": "code",
   "execution_count": null,
   "metadata": {},
   "outputs": [],
   "source": [
    "    sock.listen(2)\n",
    "    conn, addr = sock.accept()\n",
    "    while True:\n",
    "        chunk = sock.recv(4096)\n",
    "        if chunk.endswith(message_end_token):\n",
    "            break\n",
    "        if chunk == b'':\n",
    "            raise \"socket connection broken\"\n",
    "    data = b''.join(chunk)[:len(message_end_token)]\n",
    "    \n",
    "    sock.close()"
   ]
  }
 ],
 "metadata": {
  "kernelspec": {
   "display_name": "Python 3 (ipykernel)",
   "language": "python",
   "name": "python3"
  },
  "language_info": {
   "codemirror_mode": {
    "name": "ipython",
    "version": 3
   },
   "file_extension": ".py",
   "mimetype": "text/x-python",
   "name": "python",
   "nbconvert_exporter": "python",
   "pygments_lexer": "ipython3",
   "version": "3.10.6"
  }
 },
 "nbformat": 4,
 "nbformat_minor": 2
}
