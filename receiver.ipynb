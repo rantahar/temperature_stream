{
 "cells": [
  {
   "cell_type": "code",
   "execution_count": 18,
   "metadata": {},
   "outputs": [
    {
     "name": "stdout",
     "output_type": "stream",
     "text": [
      "10.0\n"
     ]
    }
   ],
   "source": [
    "import socket\n",
    "import struct\n",
    "\n",
    "message_end_token = b\"000000\"\n",
    "\n",
    "def receive_temperature_data(address=\"\", port = 5016, timeout = 15*60):\n",
    "    try:\n",
    "        sock = socket.socket()\n",
    "        sock.setsockopt(socket.SOL_SOCKET, socket.SO_REUSEADDR, 1)\n",
    "        sock.settimeout(timeout)\n",
    "        sock.bind((address, port))\n",
    "    \n",
    "        sock.listen(2)\n",
    "        conn, addr = sock.accept()\n",
    "    \n",
    "        data = conn.recv(64)\n",
    "        sock.close()\n",
    "    \n",
    "    except:\n",
    "        sock.close()\n",
    "        raise\n",
    "        \n",
    "    temp, = struct.unpack(\"<f\", data) # convert the bytes into a float (little endian)\n",
    "    \n",
    "    assert temp > 0.0\n",
    "    assert temp < 300.0\n",
    "    return temp\n",
    "\n",
    "\n",
    "def stream_temperature_from(address, port = 5016, interval = 15*60):\n",
    "    try:\n",
    "        temperature = receive_temperature_data(address, port, interval)\n",
    "    except socket.timeout as e:\n",
    "        temperature = None\n",
    "    return temperature\n",
    "\n",
    "temperature = 5\n",
    "new_temperature = stream_temperature_from(\"\", port = 5020, interval = 60)\n",
    "if new_temperature is not None:\n",
    "    temperature = new_temperature\n",
    "\n",
    "print(temperature)"
   ]
  },
  {
   "cell_type": "code",
   "execution_count": null,
   "metadata": {},
   "outputs": [],
   "source": []
  }
 ],
 "metadata": {
  "kernelspec": {
   "display_name": "Python 3 (ipykernel)",
   "language": "python",
   "name": "python3"
  },
  "language_info": {
   "codemirror_mode": {
    "name": "ipython",
    "version": 3
   },
   "file_extension": ".py",
   "mimetype": "text/x-python",
   "name": "python",
   "nbconvert_exporter": "python",
   "pygments_lexer": "ipython3",
   "version": "3.10.6"
  }
 },
 "nbformat": 4,
 "nbformat_minor": 2
}
