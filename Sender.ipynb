{
 "cells": [
  {
   "cell_type": "code",
   "execution_count": null,
   "id": "9e0a9dc9",
   "metadata": {},
   "outputs": [],
   "source": [
    "import socket\n",
    "import struct\n",
    "import time\n",
    "\n",
    "temperature = 10.0\n",
    "\n",
    "def float_to_bytes(value):\n",
    "    ''' convert a float into bytes '''\n",
    "    return bytearray(struct.pack(\"f\", value))\n",
    "\n",
    "def send_temperature_data(temperature, address, port = 5016):\n",
    "    ''' Send temperature data to an IP address '''\n",
    "    assert type(temperature) is float\n",
    "    sock = socket.socket()\n",
    "    sock.connect((address, port))\n",
    "    \n",
    "    data = float_to_bytes(temperature)\n",
    "    sent = sock.send(data)\n",
    "\n",
    "def stream_temperature_to(temperature, address, port = 5016, send_time = 15*60):\n",
    "    while True:\n",
    "        # temperature = read_from_file or something\n",
    "        try:\n",
    "            send_temperature_data(temperature, address, port)\n",
    "        except socket.error:\n",
    "            time.sleep(send_time)\n",
    "        \n",
    "stream_temperature_to(temperature, \"127.0.0.1\", port=5020, send_time = 1)\n",
    "\n"
   ]
  }
 ],
 "metadata": {
  "kernelspec": {
   "display_name": "Python 3 (ipykernel)",
   "language": "python",
   "name": "python3"
  },
  "language_info": {
   "codemirror_mode": {
    "name": "ipython",
    "version": 3
   },
   "file_extension": ".py",
   "mimetype": "text/x-python",
   "name": "python",
   "nbconvert_exporter": "python",
   "pygments_lexer": "ipython3",
   "version": "3.10.6"
  }
 },
 "nbformat": 4,
 "nbformat_minor": 5
}
